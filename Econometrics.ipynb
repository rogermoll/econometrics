{
 "cells": [
  {
   "cell_type": "markdown",
   "metadata": {},
   "source": [
    "<a name='home'></a>\n",
    "# Table of Content\n",
    "1. [Modul 1:](#mod1)  \n",
    "    1.1 [Simple Regression: Motivation](#SRmot)  \n",
    "    1.2 [Simple Regression: Representation](#SRrep)  \n",
    "    1.3 [Simple Regression: Estimation](#SRest)  \n",
    "    1.4 [Simple Regression: Evaluation](#SReva)  \n",
    "    1.5 [Simple Regression: Application](#SRapp) \n",
    "2. [Modul 2:](#mod2)\n",
    "3. [Modul 3:](#mod3)\n",
    "4. [Modul 4:](#mod4)\n",
    "5. [Modul 5:](#mod5)\n",
    "6. [Modul 6:](#mod6)\n",
    "7. [Modul 7:](#mod7)\n",
    "8. [Modul 8:](#mod8)\n",
    " \n",
    "[Training Question](#train)  \n",
    "    1.1 [Solution Training Exercise 1.1](#train1_1)  \n",
    "    1.2 [Solution Training Exercise 1.2](#train1_2)  \n",
    "    1.3 [Solution Training Exercise 1.3](#train1_3)  \n",
    "    1.4 [Solution Training Exercise 1.4](#train1_4)  \n",
    "    1.5 [Solution Training Exercise 1.5](#train1_5)  \n",
    "\n",
    "Peer graded assignments:\n",
    "\n",
    "\n",
    "---"
   ]
  },
  {
   "cell_type": "markdown",
   "metadata": {},
   "source": [
    "<a name='mod1'></a>\n",
    "## Modul 1:\n",
    "<a name='SRmot'></a>\n",
    "### Simple Regression: Motivation\n",
    "\n",
    "Define the turnover as product of price and sales, where Sales = a + b x P with a>0 and b<0. Derive the formula for the optimal price in terms of and b.\n",
    "\n",
    "P = Price, T = Turnover = Price x Sales  \n",
    "\n",
    "$ T = P(a+bP) = aP + bP^2$  \n",
    "$\\frac{dT}{dP} = a + 2P = 0$  \n",
    "$P_{Opt} = - \\frac{a}{2b}$\n",
    "\n",
    "In a simple regression, we focus on two variables of interest we denote by y and x, where one variable, x, is thought to be helpful to predict the other, y. This helpful variable x we call the **regressor** variable or the **explanatory factor**. And the variable y that we want to predict is called the **dependent** variable, or the **explained** variable $\\hat{y}$.\n",
    "\n",
    "If the histogram of our data suggest that the distribution can be approximated by a **normal distribution** a simple way of summarizing the observations is written as:  \n",
    "\n",
    "$ S \\sim $NID$(\\mu,\\sigma^2)$\n",
    "\n",
    "[Slides](https://d396qusza40orc.cloudfront.net/eureconometrics-assets/Dataset%20Files%20for%20On-Demand%20Course/Exercises%20and%20datasets/Handouts%20slides%20videos/Lecture%201.1-4on1.pdf)\n",
    "\n",
    "<a name='SRrep'></a>\n",
    "### Simple Regression: Representation\n",
    "We formalized the notion that you can use values of variable to predict the values of another variable. For dependent variable y with observations y subscript i, we can assume as we did for the seal's data in the first lecture that y is identically distributed as normal with mean mu and variance sigma squared $ S \\sim $NID$(\\mu,\\sigma^2)$. In that case, \n",
    "* the expected value with notation $E(y_i) = \\mu$\n",
    "* the variance of sigma squared is $E(y_i - \\mu) = \\sigma^2$.\n",
    "* An estimator of the population mean $\\hat{\\mu}$ is given by the sample mean $\\overline{y}$. And an estimator for sigma squared is the sample variance $\\hat{\\sigma}^2$. Sample estimates:\n",
    "    * $\\hat{\\mu} = \\overline{y} = \\frac{1}{n}\\sum_{i=1}^{n}{y_i}$\n",
    "    * $\\hat{\\sigma}^2 = \\frac{1}{n-1}\\sum_{i=1}^{n}{(y_i-\\overline{y})^2}$ \n",
    "    * $E(y_i) = \\alpha + \\beta x_i$\n",
    "\n",
    "The idea of using one variable to predict the other instead of just using the sample mean, means that we move from an unconditional mean $E(y_i) = \\mu$ to a conditional mean given a value of x, i.e.  \n",
    "$E(y_i) = \\alpha + \\beta x_i \\rightarrow y_i = \\alpha + \\beta x_i + \\varepsilon_i$ with $\\varepsilon_i \\sim N(0,\\sigma^2)$ \n",
    "\n",
    "In mathematical notation, we write the relative increase as dx divided by x. The parameter beta in the simple regression model has the input notation of the derivative of y with respect to x.  \n",
    "\n",
    "$\\beta = \\frac{dy}{dx}$\n",
    "\n",
    "In economics, we often use the concept of elasticity which measures, for example, the percentage increase in sales associated with 1% decrease in price.  \n",
    "\n",
    "* Definition of elasitcity: $\\frac{dy / y}{dx / x}$\n",
    "* Elasticity in $y = \\alpha + \\beta x$:  \n",
    "    elasticity = $\\frac{dy / y}{dx / x} = \\frac{dy}{dx} * \\frac{x}{y} = \\beta * \\frac{x}{y}$\n",
    "\n",
    "If it is preferred to measure elasticity independ on the ratio x over y, one can transform the y and x variables by taking the natural logarithm (log.)  $log{(y)} = \\alpha + \\beta log{(x)}$\n",
    "\n",
    "<a name='SRest'></a>\n",
    "### Simple Regression: Estimation\n",
    "Two aspects of predicting values of a dependent variable y based on an explanatory variable x: \n",
    "1. there are coefficients a and b that can be useful in practice, and \n",
    "2. there are parameters alpha and beta that only exist in theory.\n",
    "\n",
    "We will see now how to obtain values of a and b from a given set of observations and will examine their link with alpha and beta, given a set of assumptions.\n",
    "\n",
    "* Simple regression model: $y_i = \\alpha + \\beta x_i + \\varepsilon_i$\n",
    "* In econometrics, we do not know $\\alpha$, $\\beta$ and $\\varepsilon_i$\n",
    "* we use **observed** data on $x_i, y_i$ to find optimal values of a and b\n",
    "* The line $y = a + b*y$ is called the regression line\n",
    "    a: intercept  \n",
    "    b: slope  \n",
    "\n",
    "We have n pairs of observations on x and y, and we want to find the line that gives the best fit to these points. When we use the linear function a + bx to predict y, then we get residuals e.  \n",
    "* Residuals: $e_i = y_i - a - b * x_i$  \n",
    "\n",
    "Minimizing the residuals seems a sensible strategy to find the best possible values for a and b. And a useful objective function is the sum of squared residuals.\n",
    "\n",
    "* Sum of Squared Residuals: $S(a,b) = \\sum_{i=1}^{n}{(y_i - a - bx_i)^2}$\n",
    "\n",
    "The minimum of the objective function is obtained by solving the first order conditions. This is done by taking the partial derivatives of the objective function and setting these to 0.\n",
    "\n",
    "* $0 = \\frac{dS}{de} = -2 \\sum_{i=1}^{n}{(y_i - a - bx_i)} = -2 \\sum_{i=1}^{n}{(e_i)^2}$  \n",
    "\n",
    "* sample means: $\\overline{y} = \\frac{1}{n} \\sum_{i=1}^{n}{(y_i)}$ and $\\overline{x} = \\frac{1}{n} \\sum_{i=1}^{n}{(x_i)} $  \n",
    "\n",
    "* $0 = -2 \\overline{y} + 2a + 2b\\overline{x}$  \n",
    " $ a = \\overline{y} -b\\overline{x}$\n",
    "\n",
    "* $0 = \\frac{dS}{db} = -2 \\sum_{i=1}^{n}{x_i(y_i - a - bx_i)} = -2 \\sum_{i=1}^{n}{(x_i * e_i)}$  \n",
    "    $0 = \\sum_{i=1}^{n}{x_i(y_i - a - bx_i)} = \\sum_{i=1}^{n}{x_i y_i} - a \\sum_{i=1}^{n}{x_i} - b \\sum_{i=1}^{n}{x_i^2}$ | $ a = \\overline{y} -b\\overline{x}$  \n",
    "    $b = \\frac{\\sum_{i=1}^{n}{x_i(y_i - \\overline{y})}}{\\sum_{i=1}^{n}{x_i(x_i - \\overline{x})}}$   \n",
    "    $b = \\frac{\\sum_{i=1}^{n}{(x_i - \\overline{x})(y_i - \\overline{y})}}{\\sum_{i=1}^{n}{(x_i - \\overline{x})^2}}$\n",
    "\n",
    "When we fit a straight line to a scatter of data, we want to know how good this line fits the data. And one measure for this is called the R-squared.\n",
    "The line emerges from explaining the variation in the outcomes of the variable y by means of the variation in the explanatory variable x.\n",
    "\n",
    "* $SS_{total} = SS_{explained} + SS_{residual}$  \n",
    "    $\\sum_{i=1}^{n}{(y_i - \\overline{y})^2} = b\\sum_{i=1}^{n}{(x_i - \\overline{x})^2} + \\sum_{i=1}^{n}{e_i^2}$\n",
    "* $R^2 = \\frac{SS_{explained}}{SS_{residual}} = -1 \\frac{\\sum_{i=1}^{n}{e_1^2}}{\\sum_{i=1}^{n}{(y_i - \\overline{y})^2}}$\n",
    "\n",
    "Estimated error of variance:\n",
    "* $s^2 = \\frac{1}{n-2} \\sum_{i=1}^{n}{e_i^2}$\n",
    "\n",
    "<a name='SReva'></a>\n",
    "### Simple Regression: Evaluation\n",
    "* Actual value: $y_i = \\alpha + \\beta x_i + \\varepsilon_i$\n",
    "* Predicted value: $\\hat{y}_i = a + b x_i$\n",
    "* Interval for $varepsilon_0: (-ks, ks)$\n",
    "* Prediction interval for $y_0: (\\hat{y}_0 - ks, \\hat{y}_0 + ks)$\n",
    "\n",
    "Assumption:\n",
    "In order to evaluate how accurate b is for beta, we can rely on seven assumptions. The idea is to link the actual value of b to the properties of the errors, epsilon, in the data generating process, for which we can make a set of statistical assumptions. \n",
    "1. **Y** is related in a linear way to **x**. This is called the Data Generating Process or DGP: $y_i = \\alpha + \\beta x_i + \\varepsilon_i$\n",
    "2. All observations on x are fixed numbers. \n",
    "3. The n errors $\\varepsilon_i$ are random draws from a distribution with mean zero ($E(\\varepsilon^{2}_{i} = 0)$).\n",
    "4. The variance of the n errors is a constant $E(\\varepsilon^{2}_{i} = \\sigma^2)$, which means that all observations are equally informative about the underlying DGP. This assumption is usually called homoskedasticity, meaning something like 'equal stretching'.\n",
    "5. the error terms are not correlated $E(\\varepsilon_{i} \\varepsilon_{j}) = 0$ for all i$\\neq$j.\n",
    "6. the unknown coefficients alpha and beta are the same for all n observations, and thus there is only a single straight line to fit to the scatter of the data.\n",
    "7. the errors epsilon are jointly, normally and identically distributed $E \\sim NID(0, \\sigma^2)$.\n",
    "\n",
    "With these seven assumptions, we can determine the precise statistical properties of the slope estimator b. And in particular we can find expressions for its mean value and its variance. \n",
    "\n",
    "* $b = \\frac{\\sum_{i=1}^{n}{x_i(y_i - \\overline{y})}}{\\sum_{i=1}^{n}{x_i(x_i - \\overline{x})}}$ \n",
    "\n",
    "The seven assumptions imply that b has a normal distribution with mean beta and variance sigma b squared. This distribution can be standardized to give the Z-score, which is distributed as standard normal.\n",
    "\n",
    "* $b \\sim N(\\beta, \\sigma^{2}_{b} and Z = \\frac{b-\\beta}{\\sigma_{b} \\sim N(0,1)})$\n",
    "\n",
    "* The t value is defined as b minus beta divided by the standard deviation of b. When n is large enough, the t-distribution is approximately the same as the standard normal distribution. As a rule of thumb, we reject the null hypothesis that beta is 0 when the absolute t value is larger than 2. The approximate 95% confidence interval of the standard normal distribution is the interval -2 to 2.  \n",
    "    * $t_{b} = \\frac{b-\\beta}{s_{b} \\sim t(n-2)}$\n",
    "    * t-test on $H_{0}: \\beta = 0 based on t_{b} = \\frac{b}{s_{b}}$  \n",
    "      Rule of thumb for large n: reject $H_{0}$ if $t_{b} < -2$ or $t_{b} < +2$\n",
    "\n",
    "Following this line of thought, we can also derive an approximate 95% prediction interval for a new value of y, corresponding to any given new value of x, as shown on the slide.\n",
    "\n",
    "[Slides](https://d396qusza40orc.cloudfront.net/eureconometrics-assets/Dataset%20Files%20for%20On-Demand%20Course/Exercises%20and%20datasets/Handouts%20slides%20videos/Lecture%201.4-4on1.pdf)\n",
    "\n",
    "<a name='SRapp'></a>\n",
    "### Simple Regression: Application\n",
    "\n",
    "\n",
    "\n",
    "[Home](#home)  \n",
    "___"
   ]
  },
  {
   "cell_type": "markdown",
   "metadata": {},
   "source": [
    "<a name='train1_1'></a>\n",
    "## Solution Training Exercise 1.1\n",
    "**Questions**\n",
    "1. Make two histograms, one of expenditures and the other of age. Make also a scatter diagram with expenditures on the vertical axis versus age on the horizontal axis.\n",
    "2. In what respect do the data in this scatter diagram look different from the case of the sales and price data discussed in the lecture?\n",
    "3. Propose a method to analyze these data in a way that assists the travel agent in making recommendations to future clients.\n",
    "4. Compute the sample mean of expenditures of all 26 clients.  \n",
    "5. Compute two sample means of expenditures, one for clients of age forty or more and the other for clients of age below forty.  \n",
    "6. What daily expenditures would you predict for a new client of fifty years old? And for someone who is twenty-five years old? \n",
    "    \n",
    "### Question 1\n",
    "Make two histograms, one of expenditures and the other of age. Make also a scatter diagram with expenditures on the vertical axis versus age on the horizontal axis."
   ]
  },
  {
   "cell_type": "code",
   "execution_count": 1,
   "metadata": {},
   "outputs": [],
   "source": [
    "#Import the libraries\n",
    "import matplotlib.pyplot as plt\n",
    "import numpy as np\n",
    "import pandas as pd\n",
    "\n",
    "%matplotlib inline"
   ]
  },
  {
   "cell_type": "code",
   "execution_count": 2,
   "metadata": {},
   "outputs": [
    {
     "data": {
      "text/html": [
       "<div>\n",
       "<style scoped>\n",
       "    .dataframe tbody tr th:only-of-type {\n",
       "        vertical-align: middle;\n",
       "    }\n",
       "\n",
       "    .dataframe tbody tr th {\n",
       "        vertical-align: top;\n",
       "    }\n",
       "\n",
       "    .dataframe thead th {\n",
       "        text-align: right;\n",
       "    }\n",
       "</style>\n",
       "<table border=\"1\" class=\"dataframe\">\n",
       "  <thead>\n",
       "    <tr style=\"text-align: right;\">\n",
       "      <th></th>\n",
       "      <th>Observation</th>\n",
       "      <th>Age</th>\n",
       "      <th>Expenditures</th>\n",
       "    </tr>\n",
       "  </thead>\n",
       "  <tbody>\n",
       "    <tr>\n",
       "      <th>0</th>\n",
       "      <td>1</td>\n",
       "      <td>49</td>\n",
       "      <td>95</td>\n",
       "    </tr>\n",
       "    <tr>\n",
       "      <th>1</th>\n",
       "      <td>2</td>\n",
       "      <td>15</td>\n",
       "      <td>104</td>\n",
       "    </tr>\n",
       "    <tr>\n",
       "      <th>2</th>\n",
       "      <td>3</td>\n",
       "      <td>43</td>\n",
       "      <td>91</td>\n",
       "    </tr>\n",
       "    <tr>\n",
       "      <th>3</th>\n",
       "      <td>4</td>\n",
       "      <td>45</td>\n",
       "      <td>98</td>\n",
       "    </tr>\n",
       "    <tr>\n",
       "      <th>4</th>\n",
       "      <td>5</td>\n",
       "      <td>40</td>\n",
       "      <td>94</td>\n",
       "    </tr>\n",
       "  </tbody>\n",
       "</table>\n",
       "</div>"
      ],
      "text/plain": [
       "   Observation  Age  Expenditures\n",
       "0            1   49            95\n",
       "1            2   15           104\n",
       "2            3   43            91\n",
       "3            4   45            98\n",
       "4            5   40            94"
      ]
     },
     "execution_count": 2,
     "metadata": {},
     "output_type": "execute_result"
    }
   ],
   "source": [
    "#Load the dataset to a datafram (df) and have a glance at the 5 first records of the dataset\n",
    "df = pd.read_csv('TrainExer11.csv')\n",
    "df.head()"
   ]
  },
  {
   "cell_type": "code",
   "execution_count": 3,
   "metadata": {},
   "outputs": [],
   "source": [
    "#Define the bin size for the histogram's\n",
    "df['Expenditures'].head()\n",
    "count, bin_edges = np.histogram(df['Expenditures'])"
   ]
  },
  {
   "cell_type": "code",
   "execution_count": 4,
   "metadata": {},
   "outputs": [
    {
     "data": {
      "image/png": "[encoded data removed]",
      "text/plain": [
       "<Figure size 576x360 with 1 Axes>"
      ]
     },
     "metadata": {
      "needs_background": "light"
     },
     "output_type": "display_data"
    }
   ],
   "source": [
    "#Plot the histogram for the expenditure\n",
    "df['Expenditures'].plot(kind='hist', figsize=(8, 5), xticks=bin_edges, edgecolor='white')\n",
    "plt.title('Histogram of Expenditures')\n",
    "plt.ylabel('Number of Observations')\n",
    "plt.xlabel('Size of Expenditures')\n",
    "plt.show()"
   ]
  },
  {
   "cell_type": "code",
   "execution_count": 5,
   "metadata": {},
   "outputs": [],
   "source": [
    "#Define the bin size for the histogram's\n",
    "df['Age'].head()\n",
    "count, bin_edges = np.histogram(df['Age'])"
   ]
  },
  {
   "cell_type": "code",
   "execution_count": 6,
   "metadata": {},
   "outputs": [
    {
     "data": {
      "image/png": "[encoded data removed]",
      "text/plain": [
       "<Figure size 576x360 with 1 Axes>"
      ]
     },
     "metadata": {
      "needs_background": "light"
     },
     "output_type": "display_data"
    }
   ],
   "source": [
    "#Plot the histogram for the age\n",
    "df['Age'].plot(kind='hist', figsize=(8, 5), xticks=bin_edges, edgecolor='white')\n",
    "plt.title('Histogram of Age')\n",
    "plt.ylabel('Number of Observations')\n",
    "plt.xlabel('Age of participants')\n",
    "plt.show()"
   ]
  },
  {
   "cell_type": "code",
   "execution_count": 7,
   "metadata": {},
   "outputs": [
    {
     "data": {
      "image/png": "[encoded data removed]",
      "text/plain": [
       "<Figure size 720x432 with 1 Axes>"
      ]
     },
     "metadata": {
      "needs_background": "light"
     },
     "output_type": "display_data"
    }
   ],
   "source": [
    "#Plot a scatter diagram with Age on the horizontal axis and expenditure on the vertical axis\n",
    "df.plot(kind='scatter', x='Age', y='Expenditures', figsize=(10, 6), color='darkblue')\n",
    "plt.title('Total Expenditure based on Age')\n",
    "plt.xlabel('Age')\n",
    "plt.ylabel('Expenditure')\n",
    "plt.show()"
   ]
  },
  {
   "cell_type": "markdown",
   "metadata": {},
   "source": [
    "[Home](#home)  \n",
    "___"
   ]
  },
  {
   "cell_type": "markdown",
   "metadata": {},
   "source": [
    "### Question 2  \n",
    "\n",
    "In what respect do the data in this scatter diagram look different from the case of the sales and price data discussed in the lecture?\n",
    "\n",
    "1. The histograms do not support the assumption of a normal distribution: Not over the whole dataset, neither within the two cluster of expenditure\n",
    "2. The scatter diagram does not depict a clear linear regression of the data points. At best it shows a linear regression with a weak correlation, i.e. large residual (error) values\n",
    "\n",
    "[Home](#home)  \n",
    "___\n",
    "\n",
    "### Question 3\n",
    "Propose a method to analyze these data in a way that assists the travel agent in making recommendations to future clients.\n",
    "\n",
    "Based on the scatter plot, there are two distinct groups of customer:\n",
    "* Group 1 is below 40 years of age with an expenditure >103 and <110\n",
    "* Group 2 is above 40 years of age with an expenditure >90 and <103  \n",
    "\n",
    "Hence an offering for each of the groups' expenditure habit, will meet the clusters specific needs better.\n",
    "\n",
    "[Home](#home)  \n",
    "___"
   ]
  },
  {
   "cell_type": "markdown",
   "metadata": {},
   "source": [
    "### Question 4\n",
    "Compute the sample mean of expenditures of all 26 clients.\n",
    "\n",
    "The **sample mean** or **empirical mean** is $ \\frac{1}{N}\\sum_{i=1}^{N}{x_i}$"
   ]
  },
  {
   "cell_type": "code",
   "execution_count": 8,
   "metadata": {},
   "outputs": [
    {
     "name": "stdout",
     "output_type": "stream",
     "text": [
      "The sample mean of expenditures of all 26 clients is: 101.12\n"
     ]
    }
   ],
   "source": [
    "df_mean=df['Expenditures'].mean()\n",
    "print(\"The sample mean of expenditures of all 26 clients is: \"+\"{:.2f}\".format(df_mean));"
   ]
  },
  {
   "cell_type": "markdown",
   "metadata": {},
   "source": [
    "[Home](#home)  \n",
    "___\n",
    "### Question 5\n",
    "Compute two sample means of expenditures, one for clients of age forty or more and the other for clients of age below forty.\n"
   ]
  },
  {
   "cell_type": "code",
   "execution_count": 9,
   "metadata": {},
   "outputs": [
    {
     "name": "stdout",
     "output_type": "stream",
     "text": [
      "The sample mean of expenditures of the group below 40 is: 106.38 \n",
      "The sample mean of expenditures of the group above or equal to 40 is: 95.85\n"
     ]
    }
   ],
   "source": [
    "df_grp1 = df[df['Age']<39.9]\n",
    "df_grp2 = df[df['Age']>39.9]\n",
    "df_mean1 = df_grp1['Expenditures'].mean()\n",
    "df_mean2 = df_grp2['Expenditures'].mean()\n",
    "print(\"The sample mean of expenditures of the group below 40 is: \"+\"{:.2f}\".format(df_mean1),\n",
    "     \"\\nThe sample mean of expenditures of the group above or equal to 40 is: \"+\"{:.2f}\".format(df_mean2))"
   ]
  },
  {
   "cell_type": "markdown",
   "metadata": {},
   "source": [
    "[Home](#home)  \n",
    "___\n",
    "### Question 6\n",
    "What daily expenditures would you predict for a new client of **fifty** years old? And for someone who is **twenty-five** years old?\n"
   ]
  },
  {
   "cell_type": "code",
   "execution_count": 10,
   "metadata": {},
   "outputs": [],
   "source": [
    "from sklearn import linear_model\n",
    "import numpy as np\n",
    "import seaborn as sns\n",
    "#import plotly.graph_objects as go"
   ]
  },
  {
   "cell_type": "code",
   "execution_count": 11,
   "metadata": {},
   "outputs": [
    {
     "name": "stdout",
     "output_type": "stream",
     "text": [
      "Group below 40 years of age:\n",
      "Coefficient of the group below 40 is: 0.1980 \n",
      "The intercept of the group below 40 is: 100.2323\n",
      "\n",
      "Group of 40 years of age or older:\n",
      "Coefficient of the group equal to or older than 40 is: 0.1465 \n",
      "The intercept of the group equal to or older than 40 is: 88.8719\n"
     ]
    }
   ],
   "source": [
    "x1 = df_grp1['Age']      # year on x-axis\n",
    "y1 = df_grp1['Expenditures']     # total on y-axis\n",
    "fit1 = np.polyfit(x1, y1, deg=1)\n",
    "\n",
    "x2 = df_grp2['Age']      # year on x-axis\n",
    "y2 = df_grp2['Expenditures']     # total on y-axis\n",
    "fit2 = np.polyfit(x2, y2, deg=1)\n",
    "\n",
    "print('Group below 40 years of age:')\n",
    "print('Coefficient of the group below 40 is: '+'{:.4f}'.format(fit1[0]), '\\nThe intercept of the group below 40 is: '+'{:.4f}'.format(fit1[1]))\n",
    "print('\\nGroup of 40 years of age or older:')\n",
    "print('Coefficient of the group equal to or older than 40 is: '+'{:.4f}'.format(fit2[0]), '\\nThe intercept of the group equal to or older than 40 is: '+'{:.4f}'.format(fit2[1]))"
   ]
  },
  {
   "cell_type": "code",
   "execution_count": 12,
   "metadata": {},
   "outputs": [
    {
     "data": {
      "image/png": "[encoded data removed]",
      "text/plain": [
       "<Figure size 1080x720 with 1 Axes>"
      ]
     },
     "metadata": {
      "needs_background": "light"
     },
     "output_type": "display_data"
    }
   ],
   "source": [
    "#Representation of the linear regression per sub-group\n",
    "plt.figure(figsize=(15, 10))\n",
    "\n",
    "ax1 = sns.regplot(x='Age', y='Expenditures', data=df_grp1, ci=None, marker='+')\n",
    "ax2 = sns.regplot(x='Age', y='Expenditures', data=df_grp2, ci=None, marker='+')\n",
    "\n",
    "ax1.set(xlabel='Age', ylabel='Expenditures') # add x- and y-labels\n",
    "ax1.set_title('Linear regression for the two sub-groups in one chart') # add title\n",
    "\n",
    "plt.show()"
   ]
  },
  {
   "cell_type": "code",
   "execution_count": 13,
   "metadata": {},
   "outputs": [
    {
     "name": "stdout",
     "output_type": "stream",
     "text": [
      "The estimated expenditure for customer of 25 years of age is: 105.18 \n",
      "and the estimated expenditure for a customer of 50 years of ages is: 96.20\n"
     ]
    }
   ],
   "source": [
    "y1_hat = fit1[0]*25+fit1[1]\n",
    "y2_hat = fit2[0]*50+fit2[1]\n",
    "print('The estimated expenditure for customer of 25 years of age is: '+'{:.2f}'.format(y1_hat), '\\nand the estimated expenditure for a customer of 50 years of ages is: '+'{:.2f}'.format(y2_hat))"
   ]
  },
  {
   "cell_type": "markdown",
   "metadata": {},
   "source": [
    "[Home](#home)  \n",
    "___"
   ]
  },
  {
   "cell_type": "markdown",
   "metadata": {},
   "source": [
    "<a name='train1_2'></a>\n",
    "## Solution Training Exercise 1.2\n",
    "**Questions**\n",
    "A transformation of the data on $x_i$ and $y_i$ (like taking their logarithm) changes the interpretation of the slope\n",
    "parameter β.\n",
    "\n",
    "* (a) Show that in the regression model log(yi) = α + β log(xi) + εi, the elasticity of y with respect to x is equal to β (that is, does not depend on the values of xi and yi).\n",
    "* (b) Determine the elasticity of y with respect to x in the model yi = α + β log(xi) + εi.\n",
    "* (c) Determine the elasticity of y with respect to x in the model log(yi) = α + βxi + εi\n",
    "\n",
    "The derivative of log(x), with the base $e$, is 1/x."
   ]
  },
  {
   "cell_type": "markdown",
   "metadata": {},
   "source": [
    "[Home](#home)  \n",
    "___\n",
    "### Question 1.2.a\n",
    "Show that in the regression model log(yi) = α + β log(xi) + εi, the elasticity of y with respect to x is equal to β (that is, does not depend on the values of xi and yi).\n",
    "1. Elasticity:  \n",
    "    $\\frac{d y_i}{d x_i} * \\frac{x_i}{y_i}$\n",
    "2. Rules:  \n",
    "    $exp(log(y)) = y$  \n",
    "    $exp(\\alpha + \\beta) = exp(\\alpha) * exp(\\beta)$    \n",
    "    $\\beta log{(x)} = log{(x^\\beta)}$\n",
    "3. Transform:  \n",
    "    $y = exp(\\alpha + \\beta log(x) + \\varepsilon) = exp (\\alpha + \\varepsilon) * exp(log{(x^\\beta))} =exp(\\alpha + \\varepsilon) * x^\\beta$  \n",
    "    $\\frac{dy}{dx} = \\beta exp(\\alpha + \\varepsilon) x^{b-1} = \\frac{\\beta}{x} exp(\\alpha + \\varepsilon) x^{\\beta} = \\beta \\frac{y}{x}$"
   ]
  },
  {
   "cell_type": "markdown",
   "metadata": {},
   "source": [
    "[Home](#home)  \n",
    "___\n",
    "### Question 1.2.b\n",
    "Determine the elasticity of y with respect to x in the model yi = α + β log(xi) + εi.\n",
    "\n",
    "1. $\\frac{dy_i}{dx_i} =\\beta * \\frac{d log(x_i)}{d x_i} = \\beta \\frac{1}{x_i}$\n",
    "2. elasticity = $\\frac{dy_i}{dx_1} * \\frac{x_i}{y_i} =\\beta \\frac{1}{x_i} * \\frac{x_i}{y_i} = \\beta \\frac{1}{y_i} = \\frac{\\beta}{y_i}$"
   ]
  },
  {
   "cell_type": "markdown",
   "metadata": {},
   "source": [
    "[Home](#home)  \n",
    "___\n",
    "### Question 1.2.c\n",
    "Determine the elasticity of y with respect to x in the model log(yi) = α + βxi + εi\n",
    "\n",
    "1. $log(y_i) = \\alpha +\\beta x_i +\\varepsilon_i$ | expose\n",
    "2. $y_i = exp(\\alpha +\\beta x_i +\\varepsilon_i) =exp(\\alpha +\\varepsilon_i) * exp(+\\beta x_i )$\n",
    "3. $\\frac{d y_i}{d x_i} = \\beta *{y_i}$\n",
    "4. elasticity: $\\frac{d y_i}{d x_i} * \\frac{x_i}{y_i} = \\beta *{y_i} * \\frac{x_i}{y_i} = \\beta x_i$ "
   ]
  },
  {
   "cell_type": "markdown",
   "metadata": {},
   "source": [
    "<a name='train1_3'></a>\n",
    "## Solution Training Exercise 1.3\n",
    "**Questions**\n",
    "Dataset TrainExer13 contains the winning times (W) of the Olympic 100-meter finals (for men) from 1948 to 2004. The calendar years 1948-2004 are transformed to games (G) 1-15 to simplify computations. A simple regression\n",
    "model for the trend in winning times is Wi = α + βGi + εi\n",
    ".\n",
    "* (a) Compute a and b, and determine the values of R^2 and s.\n",
    "* (b) Are you confident on the predictive ability of this model? Motivate your answer.\n",
    "* (c) What prediction do you get for 2008, 2012, and 2016? Compare your predictions with the actual winning times."
   ]
  },
  {
   "cell_type": "markdown",
   "metadata": {},
   "source": [
    "[Home](#home)  \n",
    "___\n",
    "### Question 1.3.a\n",
    "Compute a and b, and determine the values of R^2 and s.\n",
    "\n",
    "* $y_i = \\alpha + \\beta x_i + \\varepsilon_i$:\n",
    "* a = $ \\overline{y} -b\\overline{x}$\n",
    "* b = $ \\frac{\\sum_{i=1}^{n}{(x_i - \\overline{x})(y_i - \\overline{y})}}{\\sum_{i=1}^{n}{(x_i - \\overline{x})^2}}$\n",
    "* R^2 = $ \\frac{SS_{explained}}{SS_{residual}} = -1 \\frac{\\sum_{i=1}^{n}{e_1^2}}{\\sum_{i=1}^{n}{(y_i - \\overline{y})^2}}$\n",
    "* s = $ \\sqrt{\\frac{1}{n-2} \\sum_{i=1}^{n}{e_i^2}}$"
   ]
  },
  {
   "cell_type": "code",
   "execution_count": 3,
   "metadata": {},
   "outputs": [
    {
     "data": {
      "text/html": [
       "<div>\n",
       "<style scoped>\n",
       "    .dataframe tbody tr th:only-of-type {\n",
       "        vertical-align: middle;\n",
       "    }\n",
       "\n",
       "    .dataframe tbody tr th {\n",
       "        vertical-align: top;\n",
       "    }\n",
       "\n",
       "    .dataframe thead th {\n",
       "        text-align: right;\n",
       "    }\n",
       "</style>\n",
       "<table border=\"1\" class=\"dataframe\">\n",
       "  <thead>\n",
       "    <tr style=\"text-align: right;\">\n",
       "      <th></th>\n",
       "      <th>Game</th>\n",
       "      <th>Year</th>\n",
       "      <th>Winning time men</th>\n",
       "    </tr>\n",
       "  </thead>\n",
       "  <tbody>\n",
       "    <tr>\n",
       "      <th>0</th>\n",
       "      <td>1</td>\n",
       "      <td>1948</td>\n",
       "      <td>10.3</td>\n",
       "    </tr>\n",
       "    <tr>\n",
       "      <th>1</th>\n",
       "      <td>2</td>\n",
       "      <td>1952</td>\n",
       "      <td>10.4</td>\n",
       "    </tr>\n",
       "    <tr>\n",
       "      <th>2</th>\n",
       "      <td>3</td>\n",
       "      <td>1956</td>\n",
       "      <td>10.5</td>\n",
       "    </tr>\n",
       "    <tr>\n",
       "      <th>3</th>\n",
       "      <td>4</td>\n",
       "      <td>1960</td>\n",
       "      <td>10.2</td>\n",
       "    </tr>\n",
       "    <tr>\n",
       "      <th>4</th>\n",
       "      <td>5</td>\n",
       "      <td>1964</td>\n",
       "      <td>10.0</td>\n",
       "    </tr>\n",
       "  </tbody>\n",
       "</table>\n",
       "</div>"
      ],
      "text/plain": [
       "   Game  Year  Winning time men\n",
       "0     1  1948              10.3\n",
       "1     2  1952              10.4\n",
       "2     3  1956              10.5\n",
       "3     4  1960              10.2\n",
       "4     5  1964              10.0"
      ]
     },
     "execution_count": 3,
     "metadata": {},
     "output_type": "execute_result"
    }
   ],
   "source": [
    "# Import the data set directly from the URL\n",
    "import pandas as pd\n",
    "import matplotlib as mpl\n",
    "import matplotlib.pyplot as plt\n",
    "import numpy as np\n",
    "from numpy.polynomial.polynomial import polyfit\n",
    "%matplotlib inline\n",
    "\n",
    "df = pd.read_excel (r'https://d396qusza40orc.cloudfront.net/eureconometrics-assets/Dataset%20Files%20for%20On-Demand%20Course/Exercises%20and%20datasets/Module%201/TrainExer13.xls')\n",
    "df.head()"
   ]
  },
  {
   "cell_type": "code",
   "execution_count": 4,
   "metadata": {},
   "outputs": [
    {
     "data": {
      "text/html": [
       "<div>\n",
       "<style scoped>\n",
       "    .dataframe tbody tr th:only-of-type {\n",
       "        vertical-align: middle;\n",
       "    }\n",
       "\n",
       "    .dataframe tbody tr th {\n",
       "        vertical-align: top;\n",
       "    }\n",
       "\n",
       "    .dataframe thead th {\n",
       "        text-align: right;\n",
       "    }\n",
       "</style>\n",
       "<table border=\"1\" class=\"dataframe\">\n",
       "  <thead>\n",
       "    <tr style=\"text-align: right;\">\n",
       "      <th></th>\n",
       "      <th>Game</th>\n",
       "      <th>Year</th>\n",
       "      <th>W_time</th>\n",
       "    </tr>\n",
       "  </thead>\n",
       "  <tbody>\n",
       "    <tr>\n",
       "      <th>0</th>\n",
       "      <td>1</td>\n",
       "      <td>1948</td>\n",
       "      <td>10.3</td>\n",
       "    </tr>\n",
       "    <tr>\n",
       "      <th>1</th>\n",
       "      <td>2</td>\n",
       "      <td>1952</td>\n",
       "      <td>10.4</td>\n",
       "    </tr>\n",
       "    <tr>\n",
       "      <th>2</th>\n",
       "      <td>3</td>\n",
       "      <td>1956</td>\n",
       "      <td>10.5</td>\n",
       "    </tr>\n",
       "    <tr>\n",
       "      <th>3</th>\n",
       "      <td>4</td>\n",
       "      <td>1960</td>\n",
       "      <td>10.2</td>\n",
       "    </tr>\n",
       "    <tr>\n",
       "      <th>4</th>\n",
       "      <td>5</td>\n",
       "      <td>1964</td>\n",
       "      <td>10.0</td>\n",
       "    </tr>\n",
       "  </tbody>\n",
       "</table>\n",
       "</div>"
      ],
      "text/plain": [
       "   Game  Year  W_time\n",
       "0     1  1948    10.3\n",
       "1     2  1952    10.4\n",
       "2     3  1956    10.5\n",
       "3     4  1960    10.2\n",
       "4     5  1964    10.0"
      ]
     },
     "execution_count": 4,
     "metadata": {},
     "output_type": "execute_result"
    }
   ],
   "source": [
    "df.rename(columns={'Winning time men':'W_time'}, inplace=True)\n",
    "#df.set_index('Game', inplace=True)\n",
    "#df['Year_trf'] = df['Game']-df.loc[:,\"Res1\"].mean()\n",
    "df.head()"
   ]
  },
  {
   "cell_type": "code",
   "execution_count": 5,
   "metadata": {},
   "outputs": [
    {
     "name": "stdout",
     "output_type": "stream",
     "text": [
      "The mean of winning time w = 10.08\n",
      "The number of observations n =  15\n",
      "The mean of observations n_games =  8.0\n"
     ]
    }
   ],
   "source": [
    "w_mean = df.loc[:,\"W_time\"].mean()\n",
    "g_mean = df.loc[:,\"Game\"].mean()\n",
    "print('The mean of winning time w = '+'{:.2f}'.format(w_mean))\n",
    "print('The number of observations n = ',df.loc[:,\"Year\"].count())\n",
    "print('The mean of observations n_games = ', g_mean)\n"
   ]
  },
  {
   "cell_type": "code",
   "execution_count": 6,
   "metadata": {},
   "outputs": [
    {
     "data": {
      "text/html": [
       "<div>\n",
       "<style scoped>\n",
       "    .dataframe tbody tr th:only-of-type {\n",
       "        vertical-align: middle;\n",
       "    }\n",
       "\n",
       "    .dataframe tbody tr th {\n",
       "        vertical-align: top;\n",
       "    }\n",
       "\n",
       "    .dataframe thead th {\n",
       "        text-align: right;\n",
       "    }\n",
       "</style>\n",
       "<table border=\"1\" class=\"dataframe\">\n",
       "  <thead>\n",
       "    <tr style=\"text-align: right;\">\n",
       "      <th></th>\n",
       "      <th>Game</th>\n",
       "      <th>Year</th>\n",
       "      <th>W_time</th>\n",
       "      <th>x-x_mean</th>\n",
       "      <th>y-y_mean</th>\n",
       "      <th>Sum_demean</th>\n",
       "      <th>squ_x</th>\n",
       "      <th>squ_y</th>\n",
       "    </tr>\n",
       "  </thead>\n",
       "  <tbody>\n",
       "    <tr>\n",
       "      <th>0</th>\n",
       "      <td>1</td>\n",
       "      <td>1948</td>\n",
       "      <td>10.3</td>\n",
       "      <td>-7.0</td>\n",
       "      <td>0.218</td>\n",
       "      <td>-1.526</td>\n",
       "      <td>49.0</td>\n",
       "      <td>0.047524</td>\n",
       "    </tr>\n",
       "    <tr>\n",
       "      <th>1</th>\n",
       "      <td>2</td>\n",
       "      <td>1952</td>\n",
       "      <td>10.4</td>\n",
       "      <td>-6.0</td>\n",
       "      <td>0.318</td>\n",
       "      <td>-1.908</td>\n",
       "      <td>36.0</td>\n",
       "      <td>0.101124</td>\n",
       "    </tr>\n",
       "    <tr>\n",
       "      <th>2</th>\n",
       "      <td>3</td>\n",
       "      <td>1956</td>\n",
       "      <td>10.5</td>\n",
       "      <td>-5.0</td>\n",
       "      <td>0.418</td>\n",
       "      <td>-2.090</td>\n",
       "      <td>25.0</td>\n",
       "      <td>0.174724</td>\n",
       "    </tr>\n",
       "    <tr>\n",
       "      <th>3</th>\n",
       "      <td>4</td>\n",
       "      <td>1960</td>\n",
       "      <td>10.2</td>\n",
       "      <td>-4.0</td>\n",
       "      <td>0.118</td>\n",
       "      <td>-0.472</td>\n",
       "      <td>16.0</td>\n",
       "      <td>0.013924</td>\n",
       "    </tr>\n",
       "    <tr>\n",
       "      <th>4</th>\n",
       "      <td>5</td>\n",
       "      <td>1964</td>\n",
       "      <td>10.0</td>\n",
       "      <td>-3.0</td>\n",
       "      <td>-0.082</td>\n",
       "      <td>0.246</td>\n",
       "      <td>9.0</td>\n",
       "      <td>0.006724</td>\n",
       "    </tr>\n",
       "  </tbody>\n",
       "</table>\n",
       "</div>"
      ],
      "text/plain": [
       "   Game  Year  W_time  x-x_mean  y-y_mean  Sum_demean  squ_x     squ_y\n",
       "0     1  1948    10.3      -7.0     0.218      -1.526   49.0  0.047524\n",
       "1     2  1952    10.4      -6.0     0.318      -1.908   36.0  0.101124\n",
       "2     3  1956    10.5      -5.0     0.418      -2.090   25.0  0.174724\n",
       "3     4  1960    10.2      -4.0     0.118      -0.472   16.0  0.013924\n",
       "4     5  1964    10.0      -3.0    -0.082       0.246    9.0  0.006724"
      ]
     },
     "execution_count": 6,
     "metadata": {},
     "output_type": "execute_result"
    }
   ],
   "source": [
    "df['x-x_mean'] = df['Game'] - g_mean\n",
    "df['y-y_mean'] = df['W_time'] - w_mean\n",
    "df['Sum_demean'] = df['x-x_mean']*df['y-y_mean']\n",
    "df['squ_x'] = df['x-x_mean']**2\n",
    "df['squ_y'] = df['y-y_mean']**2\n",
    "\n",
    "df.head()"
   ]
  },
  {
   "cell_type": "code",
   "execution_count": 13,
   "metadata": {},
   "outputs": [
    {
     "name": "stdout",
     "output_type": "stream",
     "text": [
      "The slobe b = -0.0 is calculated as -10.6 / 280.0.\n",
      "The intercept a = 10.4 is calculated as 10.1 - (-0.0 * 8.0). \n"
     ]
    }
   ],
   "source": [
    "b_nom = round(df.loc[:,\"Sum_demean\"].sum(),3)\n",
    "b_den = round(df.loc[:,\"squ_x\"].sum(),3)\n",
    "b =  b_nom / b_den \n",
    "w_mean =round(w_mean,3)\n",
    "a = w_mean - b * g_mean\n",
    "\n",
    "y_ysum = df.loc[:,\"y-y_mean\"].sum()\n",
    "\n",
    "print('The slobe b = {:2.1f} is calculated as {:2.1f} / {:2.1f}.'.format(b, b_nom, b_den))\n",
    "print('The intercept a = {:2.1f} is calculated as {:2.1f} - ({:2.1f} * {:2.1f}). '.format(a, w_mean, b, g_mean, digits=3))"
   ]
  },
  {
   "cell_type": "code",
   "execution_count": 16,
   "metadata": {},
   "outputs": [
    {
     "data": {
      "text/html": [
       "<div>\n",
       "<style scoped>\n",
       "    .dataframe tbody tr th:only-of-type {\n",
       "        vertical-align: middle;\n",
       "    }\n",
       "\n",
       "    .dataframe tbody tr th {\n",
       "        vertical-align: top;\n",
       "    }\n",
       "\n",
       "    .dataframe thead th {\n",
       "        text-align: right;\n",
       "    }\n",
       "</style>\n",
       "<table border=\"1\" class=\"dataframe\">\n",
       "  <thead>\n",
       "    <tr style=\"text-align: right;\">\n",
       "      <th></th>\n",
       "      <th>Game</th>\n",
       "      <th>Year</th>\n",
       "      <th>W_time</th>\n",
       "      <th>x-x_mean</th>\n",
       "      <th>y-y_mean</th>\n",
       "      <th>Sum_demean</th>\n",
       "      <th>squ_x</th>\n",
       "      <th>squ_y</th>\n",
       "      <th>e</th>\n",
       "      <th>e2</th>\n",
       "    </tr>\n",
       "  </thead>\n",
       "  <tbody>\n",
       "    <tr>\n",
       "      <th>0</th>\n",
       "      <td>1</td>\n",
       "      <td>1948</td>\n",
       "      <td>10.30</td>\n",
       "      <td>-7.0</td>\n",
       "      <td>0.218</td>\n",
       "      <td>-1.526</td>\n",
       "      <td>49.0</td>\n",
       "      <td>0.047524</td>\n",
       "      <td>-0.048</td>\n",
       "      <td>0.002304</td>\n",
       "    </tr>\n",
       "    <tr>\n",
       "      <th>1</th>\n",
       "      <td>2</td>\n",
       "      <td>1952</td>\n",
       "      <td>10.40</td>\n",
       "      <td>-6.0</td>\n",
       "      <td>0.318</td>\n",
       "      <td>-1.908</td>\n",
       "      <td>36.0</td>\n",
       "      <td>0.101124</td>\n",
       "      <td>0.090</td>\n",
       "      <td>0.008100</td>\n",
       "    </tr>\n",
       "    <tr>\n",
       "      <th>2</th>\n",
       "      <td>3</td>\n",
       "      <td>1956</td>\n",
       "      <td>10.50</td>\n",
       "      <td>-5.0</td>\n",
       "      <td>0.418</td>\n",
       "      <td>-2.090</td>\n",
       "      <td>25.0</td>\n",
       "      <td>0.174724</td>\n",
       "      <td>0.228</td>\n",
       "      <td>0.051984</td>\n",
       "    </tr>\n",
       "    <tr>\n",
       "      <th>3</th>\n",
       "      <td>4</td>\n",
       "      <td>1960</td>\n",
       "      <td>10.20</td>\n",
       "      <td>-4.0</td>\n",
       "      <td>0.118</td>\n",
       "      <td>-0.472</td>\n",
       "      <td>16.0</td>\n",
       "      <td>0.013924</td>\n",
       "      <td>-0.034</td>\n",
       "      <td>0.001156</td>\n",
       "    </tr>\n",
       "    <tr>\n",
       "      <th>4</th>\n",
       "      <td>5</td>\n",
       "      <td>1964</td>\n",
       "      <td>10.00</td>\n",
       "      <td>-3.0</td>\n",
       "      <td>-0.082</td>\n",
       "      <td>0.246</td>\n",
       "      <td>9.0</td>\n",
       "      <td>0.006724</td>\n",
       "      <td>-0.196</td>\n",
       "      <td>0.038416</td>\n",
       "    </tr>\n",
       "    <tr>\n",
       "      <th>5</th>\n",
       "      <td>6</td>\n",
       "      <td>1968</td>\n",
       "      <td>9.95</td>\n",
       "      <td>-2.0</td>\n",
       "      <td>-0.132</td>\n",
       "      <td>0.264</td>\n",
       "      <td>4.0</td>\n",
       "      <td>0.017424</td>\n",
       "      <td>-0.208</td>\n",
       "      <td>0.043264</td>\n",
       "    </tr>\n",
       "    <tr>\n",
       "      <th>6</th>\n",
       "      <td>7</td>\n",
       "      <td>1972</td>\n",
       "      <td>10.14</td>\n",
       "      <td>-1.0</td>\n",
       "      <td>0.058</td>\n",
       "      <td>-0.058</td>\n",
       "      <td>1.0</td>\n",
       "      <td>0.003364</td>\n",
       "      <td>0.020</td>\n",
       "      <td>0.000400</td>\n",
       "    </tr>\n",
       "    <tr>\n",
       "      <th>7</th>\n",
       "      <td>8</td>\n",
       "      <td>1976</td>\n",
       "      <td>10.06</td>\n",
       "      <td>0.0</td>\n",
       "      <td>-0.022</td>\n",
       "      <td>-0.000</td>\n",
       "      <td>0.0</td>\n",
       "      <td>0.000484</td>\n",
       "      <td>-0.022</td>\n",
       "      <td>0.000484</td>\n",
       "    </tr>\n",
       "    <tr>\n",
       "      <th>8</th>\n",
       "      <td>9</td>\n",
       "      <td>1980</td>\n",
       "      <td>10.25</td>\n",
       "      <td>1.0</td>\n",
       "      <td>0.168</td>\n",
       "      <td>0.168</td>\n",
       "      <td>1.0</td>\n",
       "      <td>0.028224</td>\n",
       "      <td>0.206</td>\n",
       "      <td>0.042436</td>\n",
       "    </tr>\n",
       "    <tr>\n",
       "      <th>9</th>\n",
       "      <td>10</td>\n",
       "      <td>1984</td>\n",
       "      <td>9.99</td>\n",
       "      <td>2.0</td>\n",
       "      <td>-0.092</td>\n",
       "      <td>-0.184</td>\n",
       "      <td>4.0</td>\n",
       "      <td>0.008464</td>\n",
       "      <td>-0.016</td>\n",
       "      <td>0.000256</td>\n",
       "    </tr>\n",
       "    <tr>\n",
       "      <th>10</th>\n",
       "      <td>11</td>\n",
       "      <td>1988</td>\n",
       "      <td>9.92</td>\n",
       "      <td>3.0</td>\n",
       "      <td>-0.162</td>\n",
       "      <td>-0.486</td>\n",
       "      <td>9.0</td>\n",
       "      <td>0.026244</td>\n",
       "      <td>-0.048</td>\n",
       "      <td>0.002304</td>\n",
       "    </tr>\n",
       "    <tr>\n",
       "      <th>11</th>\n",
       "      <td>12</td>\n",
       "      <td>1992</td>\n",
       "      <td>9.96</td>\n",
       "      <td>4.0</td>\n",
       "      <td>-0.122</td>\n",
       "      <td>-0.488</td>\n",
       "      <td>16.0</td>\n",
       "      <td>0.014884</td>\n",
       "      <td>0.030</td>\n",
       "      <td>0.000900</td>\n",
       "    </tr>\n",
       "    <tr>\n",
       "      <th>12</th>\n",
       "      <td>13</td>\n",
       "      <td>1996</td>\n",
       "      <td>9.84</td>\n",
       "      <td>5.0</td>\n",
       "      <td>-0.242</td>\n",
       "      <td>-1.210</td>\n",
       "      <td>25.0</td>\n",
       "      <td>0.058564</td>\n",
       "      <td>-0.052</td>\n",
       "      <td>0.002704</td>\n",
       "    </tr>\n",
       "    <tr>\n",
       "      <th>13</th>\n",
       "      <td>14</td>\n",
       "      <td>2000</td>\n",
       "      <td>9.87</td>\n",
       "      <td>6.0</td>\n",
       "      <td>-0.212</td>\n",
       "      <td>-1.272</td>\n",
       "      <td>36.0</td>\n",
       "      <td>0.044944</td>\n",
       "      <td>0.016</td>\n",
       "      <td>0.000256</td>\n",
       "    </tr>\n",
       "    <tr>\n",
       "      <th>14</th>\n",
       "      <td>15</td>\n",
       "      <td>2004</td>\n",
       "      <td>9.85</td>\n",
       "      <td>7.0</td>\n",
       "      <td>-0.232</td>\n",
       "      <td>-1.624</td>\n",
       "      <td>49.0</td>\n",
       "      <td>0.053824</td>\n",
       "      <td>0.034</td>\n",
       "      <td>0.001156</td>\n",
       "    </tr>\n",
       "  </tbody>\n",
       "</table>\n",
       "</div>"
      ],
      "text/plain": [
       "    Game  Year  W_time  x-x_mean  y-y_mean  Sum_demean  squ_x     squ_y  \\\n",
       "0      1  1948   10.30      -7.0     0.218      -1.526   49.0  0.047524   \n",
       "1      2  1952   10.40      -6.0     0.318      -1.908   36.0  0.101124   \n",
       "2      3  1956   10.50      -5.0     0.418      -2.090   25.0  0.174724   \n",
       "3      4  1960   10.20      -4.0     0.118      -0.472   16.0  0.013924   \n",
       "4      5  1964   10.00      -3.0    -0.082       0.246    9.0  0.006724   \n",
       "5      6  1968    9.95      -2.0    -0.132       0.264    4.0  0.017424   \n",
       "6      7  1972   10.14      -1.0     0.058      -0.058    1.0  0.003364   \n",
       "7      8  1976   10.06       0.0    -0.022      -0.000    0.0  0.000484   \n",
       "8      9  1980   10.25       1.0     0.168       0.168    1.0  0.028224   \n",
       "9     10  1984    9.99       2.0    -0.092      -0.184    4.0  0.008464   \n",
       "10    11  1988    9.92       3.0    -0.162      -0.486    9.0  0.026244   \n",
       "11    12  1992    9.96       4.0    -0.122      -0.488   16.0  0.014884   \n",
       "12    13  1996    9.84       5.0    -0.242      -1.210   25.0  0.058564   \n",
       "13    14  2000    9.87       6.0    -0.212      -1.272   36.0  0.044944   \n",
       "14    15  2004    9.85       7.0    -0.232      -1.624   49.0  0.053824   \n",
       "\n",
       "        e        e2  \n",
       "0  -0.048  0.002304  \n",
       "1   0.090  0.008100  \n",
       "2   0.228  0.051984  \n",
       "3  -0.034  0.001156  \n",
       "4  -0.196  0.038416  \n",
       "5  -0.208  0.043264  \n",
       "6   0.020  0.000400  \n",
       "7  -0.022  0.000484  \n",
       "8   0.206  0.042436  \n",
       "9  -0.016  0.000256  \n",
       "10 -0.048  0.002304  \n",
       "11  0.030  0.000900  \n",
       "12 -0.052  0.002704  \n",
       "13  0.016  0.000256  \n",
       "14  0.034  0.001156  "
      ]
     },
     "execution_count": 16,
     "metadata": {},
     "output_type": "execute_result"
    }
   ],
   "source": [
    "df['e'] = df['W_time'] - a - b * df['Game']\n",
    "df['e2'] = df['e']**2\n",
    "\n",
    "df.head()\n",
    "\n",
    "e2_sum = df.loc[:,\"e2\"].sum()\n",
    "y2_sum = df.loc[:,\"squ_y\"].sum()\n",
    "R2 = 1 - (e2_sum / y2_sum)\n",
    "s = np.sqrt((1/(df.loc[:,\"Year\"].count()-2))*e2_sum)\n",
    "df.head(15)\n"
   ]
  },
  {
   "cell_type": "code",
   "execution_count": 18,
   "metadata": {},
   "outputs": [
    {
     "name": "stdout",
     "output_type": "stream",
     "text": [
      "The R^2 = 0.673 is calculated as 1 - 0.196 / 0.600. \n",
      "The s is 0.123. \n"
     ]
    }
   ],
   "source": [
    "print('The R^2 = {:2.3f} is calculated as 1 - {:2.3f} / {:2.3f}. '.format(R2, e2_sum, y2_sum, digits=3))\n",
    "print('The s is {:2.3f}. '.format(s, digits=3))"
   ]
  },
  {
   "cell_type": "code",
   "execution_count": 52,
   "metadata": {},
   "outputs": [
    {
     "data": {
      "image/png": "[encoded data removed]",
      "text/plain": [
       "<Figure size 432x288 with 1 Axes>"
      ]
     },
     "metadata": {
      "needs_background": "light"
     },
     "output_type": "display_data"
    }
   ],
   "source": [
    "x = df.loc[:,'Year']\n",
    "y = df.loc[:,'W_time']\n",
    "b, m = polyfit(x, y, 1)\n",
    "\n",
    "plt.plot(x, y, '.')\n",
    "plt.plot(x, b + m * x, '-')\n",
    "plt.show()"
   ]
  },
  {
   "cell_type": "markdown",
   "metadata": {},
   "source": [
    "[Home](#home)  \n",
    "___\n",
    "### Question 1.3.a\n",
    "Are you confident on the predictive ability of this model? Motivate your answer.\n",
    "* R2 = 0.67 ~ 67% of the data is explained\n",
    "* s = 0.122 is small indicating a small variance  \n",
    "* e mostly in the are of 1/10 of a second  \n",
    "=> not overwhelmingly but confident"
   ]
  },
  {
   "cell_type": "markdown",
   "metadata": {},
   "source": [
    "[Home](#home)  \n",
    "___\n",
    "### Question 1.3.c\n",
    "What prediction do you get for 2008, 2012, and 2016? Compare your predictions with the actual winning times.\n",
    "* 2008 => Game 16: $\\hat{y}_{16} = a + b x_i$ = 10.38 + (-0.038 * 16) = 9.77 \n",
    "* 2012 => Game 17: $\\hat{y}_{17} = \\hat{y}_{16} - b = 9.73$\n",
    "* 2016 => Game 18: $\\hat{y}_{18} = \\hat{y}_{16} - 2b = 9.69$"
   ]
  },
  {
   "cell_type": "markdown",
   "metadata": {},
   "source": [
    "[Home](#home)  \n",
    "___\n",
    "<a name='train1_4'></a>\n",
    "### Question 1.4\n",
    "Consider the situation where the x-variable is observed with measurement error, which is rather common for complex\n",
    "macroeconomic variables like national income.  \n",
    "\n",
    "Let $x^{*}$ be the true, unobserved economic variable, and let the data generating process (DGP) be given by $y_{i} = \\alpha + \\beta x^{*}_{i} + \\varepsilon^{*}_{i} $, where $x^{*}_{i}$ and $\\varepsilon^{*}_{i} $ are uncorrelated.  \n",
    "\n",
    "The observed x-values are $x_{i} = x^{∗}_{i} + v_{i}$, with measurement errors $v_{i}$ that are uncorrelated with $x{∗}_{i}$ and $\\varepsilon{∗}_{i}$. The\n",
    "signal-to-noise ratio is defined as $SN = \\frac{\\sigma^2_{*}}{\\sigma^2_v}$, where $\\sigma^2_{*}$ is the variance of $x^*$ and $\\sigma^2_{v}$ that of v.  \n",
    "\n",
    "The estimated regression model is yi = α + βxi + εi, and we consider the least squares estimator b of β.\n",
    "* (a) Do you think that the value of b depends on the variance of the measurement errors? Why?\n",
    "* (b) Show that b = β + $\\frac{\\sum_{i=1}^{n}{(x_i - \\overline{x})(\\varepsilon_i - \\overline{\\varepsilon})}}{\\sum_{i=1}^{n}{(x_i - \\overline{x})^2}}$  \n",
    "* (c) Show that $\\varepsilon_i = \\varepsilon^*_i - \\beta v_i$\n",
    "* (d) Show that the covariance between xi and $\\varepsilon_i$ is equal to $-\\beta \\sigma^2_v$\n",
    "* (e) Show that for large sample size n we get $b - \\beta \\approx \\frac{-\\beta \\sigma^2_v}{\\sigma^2_{*}}{\\sigma^2_v}$\n",
    "* (f) Compute the approximate bias ($b - \\beta$) for β = 1 in the cases SN = 1, SN = 3, and SN = 10."
   ]
  },
  {
   "cell_type": "markdown",
   "metadata": {},
   "source": [
    "[Home](#home)  \n",
    "___\n",
    "### Question 1.4.a\n",
    "Do you think that the value of b depends on the variance of the measurement errors? Why?\n",
    "\n",
    "The value of LSS b = $\\frac{\\sum_{i=1}^{n}{(x_i - \\overline{x})(y_i - \\overline{y})}}{\\sum_{i=1}^{n}{(x_i - \\overline{x})^2}}$  \n",
    "\n",
    "This includes the variance of $\\varepsilon$, since the larger the variance $\\varepsilon$ the larger the nominater of $\\frac{\\sum_{i=1}^{n}{(x_i - \\overline{x})(\\varepsilon_i - \\overline{\\varepsilon})}}{\\sum_{i=1}^{n}{(x_i - \\overline{x})^2}}$"
   ]
  },
  {
   "cell_type": "markdown",
   "metadata": {},
   "source": [
    "___\n",
    "### Question 1.4.b\n",
    "Show that b = β + $\\frac{\\sum_{i=1}^{n}{(x_i - \\overline{x})(\\varepsilon_i - \\overline{\\varepsilon})}}{\\sum_{i=1}^{n}{(x_i - \\overline{x})^2}}$   \n",
    "\n",
    "de-mean version of regression is: $y_i - \\overline{y} = (\\alpha + \\beta x_i + \\varepsilon_i)-(\\alpha+\\beta \\overline{x}+\\overline{\\varepsilon}) = \\beta(x_i - \\overline{x})+(\\varepsilon_i - \\overline{\\varepsilon})$  \n",
    "$ b = \\frac{\\sum_{i=1}^{n}{(x_i - \\overline{x})(\\beta(y_i - \\overline{y}))+(\\varepsilon_i - \\overline{\\varepsilon})}}{\\sum_{i=1}^{n}{(x_i - \\overline{x})^2}}$  \n",
    "$b = \\beta + \\frac{\\sum_{i=1}^{n}{(x_i - \\overline{x})(\\varepsilon_i - \\overline{\\varepsilon})}}{\\sum_{i=1}^{n}{(x_i - \\overline{x})^2}}$ "
   ]
  },
  {
   "cell_type": "markdown",
   "metadata": {},
   "source": [
    "___\n",
    "### Question 1.4.c\n",
    "Show hat $\\varepsilon_i = \\varepsilon^*_i - \\beta v_i$  \n",
    "\n",
    "The observed x-values are: $x_{i} = x^{∗}_{i} + v_{i}$,  \n",
    "in the linear regression model: $y_{i} = \\alpha + \\beta x^{*}_{i} + \\varepsilon^{*}_{i} = y_{i} = \\alpha + \\beta (x^{∗}_{i} + v_{i}) + \\varepsilon^{*}_{i} = \\alpha + \\beta x_i + \\varepsilon_i - \\beta v_i$ | $\\varepsilon_i - \\beta v_i = \\varepsilon_i$  \n",
    "\n",
    "thus, $\\varepsilon_i = \\varepsilon^*_i - \\beta v_i$ \n"
   ]
  },
  {
   "cell_type": "markdown",
   "metadata": {},
   "source": [
    "___\n",
    "### Question 1.4.d\n",
    "Show that the covariance between xi and $\\varepsilon_i$ is equal to $-\\beta \\sigma^2_v$  \n",
    "$cov(x_i,\\varepsilon_,) = cov(x_i^* + v_i, \\varepsilon_i^* - \\beta v_i) = -\\beta cov(v_i, v_i) = -\\beta 0$"
   ]
  },
  {
   "cell_type": "markdown",
   "metadata": {},
   "source": [
    "___\n",
    "### Question 1.4.e\n",
    "Show that for large sample size $n$ we get $b - \\beta \\approx \\frac{-\\beta \\sigma^2_v}{\\sigma^2_{*}}{\\sigma^2_v}$"
   ]
  },
  {
   "cell_type": "markdown",
   "metadata": {},
   "source": [
    "___\n",
    "### Question 1.4.e\n",
    "Compute the approximate bias ($b - \\beta$) for β = 1 in the cases SN = 1, SN = 3, and SN = 10.\n",
    "\n",
    "$b - \\beta \\approx \\frac{-\\beta \\sigma^2_v}{\\sigma^2_{*}}{\\sigma^2_v} = \\frac{-\\beta}{SN+1}$\n",
    "\n",
    "\n",
    "|SN|Bias|\n",
    "|---|---|\n",
    "|1|-0.5|\n",
    "|3|-0.25|\n",
    "|10|-0.09|"
   ]
  },
  {
   "cell_type": "markdown",
   "metadata": {},
   "source": [
    "[Home](#home)  \n",
    "___\n",
    "<a name='train1_5'></a>\n",
    "### Question 1.5\n",
    "Consider"
   ]
  },
  {
   "cell_type": "code",
   "execution_count": null,
   "metadata": {},
   "outputs": [],
   "source": []
  }
 ],
 "metadata": {
  "kernelspec": {
   "display_name": "Python",
   "language": "python",
   "name": "conda-env-python-py"
  },
  "language_info": {
   "codemirror_mode": {
    "name": "ipython",
    "version": 3
   },
   "file_extension": ".py",
   "mimetype": "text/x-python",
   "name": "python",
   "nbconvert_exporter": "python",
   "pygments_lexer": "ipython3",
   "version": "3.6.10"
  }
 },
 "nbformat": 4,
 "nbformat_minor": 4
}
